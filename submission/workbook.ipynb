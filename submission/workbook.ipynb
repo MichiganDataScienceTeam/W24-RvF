{
  "cells": [
    {
      "cell_type": "markdown",
      "metadata": {
        "id": "5A41frfMPerG"
      },
      "source": [
        "# RvF - Starter Code Workbook\n",
        "\n",
        "This is a workbook that you can upload to Google Colab to work on the project. It will download all the correct files and details to work on model development and improving."
      ]
    },
    {
      "cell_type": "code",
      "execution_count": null,
      "metadata": {
        "colab": {
          "base_uri": "https://localhost:8080/"
        },
        "id": "I1GmkkgQPvUJ",
        "outputId": "cf7abe94-30b1-4155-e92c-a1f506cd57a3"
      },
      "outputs": [
        {
          "name": "stdout",
          "output_type": "stream",
          "text": [
            "Drive already mounted at /content/drive; to attempt to forcibly remount, call drive.mount(\"/content/drive\", force_remount=True).\n",
            "env: KAGGLE_KEY_FOLDER=\n",
            "mkdir: cannot create directory ‘data’: File exists\n",
            "--2024-05-25 18:12:18--  https://raw.githubusercontent.com/MichiganDataScienceTeam/W24-RvF/main/data/download.sh\n",
            "Resolving raw.githubusercontent.com (raw.githubusercontent.com)... 185.199.110.133, 185.199.108.133, 185.199.111.133, ...\n",
            "Connecting to raw.githubusercontent.com (raw.githubusercontent.com)|185.199.110.133|:443... connected.\n",
            "HTTP request sent, awaiting response... 200 OK\n",
            "Length: 2990 (2.9K) [text/plain]\n",
            "Saving to: ‘STDOUT’\n",
            "\n",
            "-                   100%[===================>]   2.92K  --.-KB/s    in 0s      \n",
            "\n",
            "2024-05-25 18:12:18 (54.2 MB/s) - written to stdout [2990/2990]\n",
            "\n",
            "WARNING: Your Python virtual environment should be enabled while running this script!\n",
            "Current Python Environment: /usr/local/bin/python\n",
            "Using cached version of rvf10k\n"
          ]
        }
      ],
      "source": [
        "from google.colab import drive\n",
        "drive.mount('/content/drive')\n",
        "\n",
        "# Change this to the folder containing your Kaggle API key (kaggle.json)\n",
        "#%env KAGGLE_KEY_FOLDER=mdst/w24-rvf\n",
        "%env KAGGLE_KEY_FOLDER=\n",
        "!mkdir data\n",
        "!export KAGGLE_CONFIG_DIR=/content/drive/MyDrive/$KAGGLE_KEY_FOLDER && wget -O - \"https://raw.githubusercontent.com/MichiganDataScienceTeam/W24-RvF/main/data/download.sh\" | bash -s rvf10k"
      ]
    },
    {
      "cell_type": "code",
      "execution_count": null,
      "metadata": {
        "colab": {
          "base_uri": "https://localhost:8080/"
        },
        "id": "E6FeX-fyP2ZV",
        "outputId": "178e20ce-4f9e-4e52-d20f-5e5f4e7efe45"
      },
      "outputs": [
        {
          "name": "stdout",
          "output_type": "stream",
          "text": [
            "rm: cannot remove 'W24-RvF': No such file or directory\n"
          ]
        }
      ],
      "source": [
        "!rm -r W24-RvF starter_code\n",
        "!git clone -q https://github.com/MichiganDataScienceTeam/W24-RvF.git\n",
        "!mv W24-RvF/starter_code .\n",
        "!rm -r W24-RvF"
      ]
    },
    {
      "cell_type": "markdown",
      "metadata": {
        "id": "ARe20g8XRvvM"
      },
      "source": [
        "**KEY**: Make sure to save your work after every meeting! We recommend you do so via GitHub, but its not necessary."
      ]
    },
    {
      "cell_type": "markdown",
      "metadata": {
        "id": "OpQSgNMIhA7r"
      },
      "source": [
        "The following sample code is the basics you need to get started with model development."
      ]
    },
    {
      "cell_type": "code",
      "execution_count": null,
      "metadata": {
        "id": "Q1hiHeoMeTuG"
      },
      "outputs": [],
      "source": [
        "import torch\n",
        "import cv2\n",
        "import torchvision.transforms.v2 as v2\n",
        "from starter_code.dataset import RvFDataset, get_loaders\n",
        "from starter_code.train import train_model, plot_performance, load_model"
      ]
    },
    {
      "cell_type": "code",
      "execution_count": null,
      "metadata": {
        "id": "cHNHmUFqeqU_"
      },
      "outputs": [],
      "source": [
        "train_dataset = RvFDataset(\"train\", data_directory = \"data/rvf10k\")"
      ]
    },
    {
      "cell_type": "code",
      "execution_count": null,
      "metadata": {
        "colab": {
          "base_uri": "https://localhost:8080/"
        },
        "id": "J77w3w7S-TiG",
        "outputId": "39d7fc79-e124-4c54-9983-d584765d13f7"
      },
      "outputs": [
        {
          "name": "stderr",
          "output_type": "stream",
          "text": [
            "/usr/local/lib/python3.10/dist-packages/torchvision/transforms/v2/_deprecated.py:42: UserWarning: The transform `ToTensor()` is deprecated and will be removed in a future release. Instead, please use `v2.Compose([v2.ToImage(), v2.ToDtype(torch.float32, scale=True)])`.Output is equivalent up to float precision.\n",
            "  warnings.warn(\n"
          ]
        }
      ],
      "source": [
        "mean = torch.zeros((3,))\n",
        "variance = torch.zeros((3,))\n",
        "tensor_converter = v2.ToTensor()\n",
        "\n",
        "for image, _ in train_dataset:\n",
        "    mean += tensor_converter(image).mean(dim=(1, 2))\n",
        "    mean /= len(train_dataset)\n",
        "for image, _ in train_dataset:\n",
        "    image = tensor_converter(image)\n",
        "    variance += ((image - mean.view(3, 1, 1))**2).mean(dim=(1, 2))\n",
        "\n",
        "std = torch.sqrt(variance / len(train_dataset))"
      ]
    },
    {
      "cell_type": "code",
      "execution_count": null,
      "metadata": {
        "id": "BvrSyAvbiFOL"
      },
      "outputs": [],
      "source": [
        "def preprocess(image) -> torch.Tensor:\n",
        "    tensor = torch.tensor(image, dtype = torch.float32).permute(2, 0, 1)\n",
        "    tight = torch.from_numpy(cv2.Canny(image, 118, 128)).view(1, 256, 256) # Edge.\n",
        "    tensor = v2.Normalize(mean = mean, std = std)(tensor)\n",
        "    tensor =  v2.ColorJitter(brightness = 0.5, hue = 0.3)(tensor) # Color.\n",
        "    tensor = v2.GaussianBlur(kernel_size = (5, 9), sigma = (0.1, 5.))(tensor) # Blur.\n",
        "    tensor = torch.dstack([tensor.permute(1, 2, 0), tight.permute(1, 2, 0)]).permute(2, 0, 1)\n",
        "    return tensor\n",
        "\n",
        "    #mean = torch.zeros((3,))\n",
        "    #variance = torch.zeros((3,))\n",
        "    #tensor_converter = v2.ToTensor()\n",
        "\n",
        "    #for image, _ in train_dataset:\n",
        "    #    mean += tensor_converter(image).mean(dim=(1, 2))\n",
        "    #    mean /= len(train_dataset)\n",
        "    #for image, _ in train_dataset:\n",
        "    #    image = tensor_converter(image)\n",
        "    #    variance += ((image - mean.view(3, 1, 1))**2).mean(dim=(1,2))\n",
        "\n",
        "    #std = torch.sqrt(variance / len(train_dataset))\n",
        "    # TODO: Edit this function to more preprocessing steps to improve model performance.\n",
        "    #tight = torch.from_numpy(cv2.Canny(image.permute(1,2,0).numpy(), 240, 250)).view(1, 500, 500)\n",
        "    #return torch.dstack([image, tight]) # Add an extra channel for edges\n",
        "\n",
        "\n",
        "    #tensor_converter = v2.Compose([ # Step 0: Convert from PIL Image to Torch Tensor\n",
        "    #    v2.ToImage(),\n",
        "    #    v2.ToDtype(torch.float32, scale=True)\n",
        "    #])\n",
        "    #normalizer = v2.Normalize(mean=[0.4914, 0.4822, 0.4465], std=[0.2532, 0.2496, 0.2681]) # Step 1. Normalize the image\n",
        "    #cropper = v2.RandomCrop(size=(28, 28))\n",
        "    #blurrer = v2.GaussianBlur(kernel_size=(5, 9), sigma=(0.1, 5.))\n",
        "\n",
        "    #preprocessor = v2.Compose([\n",
        "    #tensor_converter,\n",
        "    #normalizer,\n",
        "    #cropper,\n",
        "    #blurrer])\n",
        "    #tensor = torch.tensor(image, dtype=torch.float32)\n",
        "    #return tensor.permute(2,0,1)"
      ]
    },
    {
      "cell_type": "code",
      "execution_count": null,
      "metadata": {
        "id": "H8KJJOQQhA7r"
      },
      "outputs": [],
      "source": [
        "class Model(torch.nn.Module):\n",
        "    def __init__(self):\n",
        "      \"\"\"Constructor for the neural network.\"\"\"\n",
        "      super(Model, self).__init__()        # Call superclass constructor\n",
        "      self.batchnorm = torch.nn.BatchNorm2d(num_features = 4)\n",
        "      self.padding = torch.nn.ZeroPad2d(padding = 2)\n",
        "      self.conv1 = torch.nn.Conv2d(in_channels = 4, out_channels = 16, kernel_size = 3, stride = 1)\n",
        "      self.dropout = torch.nn.Dropout(p = 0.50)\n",
        "      self.conv2 = torch.nn.Conv2d(in_channels = 16, out_channels = 64, kernel_size = 3, stride = 1)\n",
        "      self.conv3 = torch.nn.Conv2d(in_channels = 64, out_channels = 256, kernel_size = 3, stride = 1)\n",
        "      self.pool = torch.nn.MaxPool2d(kernel_size = 2, stride = 2)\n",
        "      self.relu = torch.nn.ReLU()\n",
        "      self.flatten = torch.nn.Flatten()\n",
        "      self.fc1 = torch.nn.Linear(278784, 1000)\n",
        "      self.fc2 = torch.nn.Linear(1000, 1)\n",
        "      self.sigmoid = torch.nn.Sigmoid()\n",
        "\n",
        "    def forward(self, x):\n",
        "      pa1 = self.padding(x)\n",
        "      b1 = self.batchnorm(pa1)\n",
        "\n",
        "      z1 = self.conv1(b1)\n",
        "      h1 = self.relu(z1)\n",
        "      p1 = self.pool(h1)\n",
        "\n",
        "      pa2 = self.padding(p1)\n",
        "\n",
        "      z2 = self.conv2(pa2)\n",
        "      h2 = self.relu(z2)\n",
        "      p2 = self.pool(h2)\n",
        "\n",
        "      pa3 = self.padding(p2)\n",
        "\n",
        "      z3 = self.conv3(pa3)\n",
        "      h3 = self.relu(z3)\n",
        "      p3 = self.pool(h3)\n",
        "\n",
        "      flat = self.flatten(p3)\n",
        "      d1 = self.dropout(flat)\n",
        "      z1 = self.fc1(d1)\n",
        "      h4 = self.relu(z1)\n",
        "      d2 = self.dropout(h4)\n",
        "      z2 = self.fc2(d2)\n",
        "\n",
        "      return self.sigmoid(z2).squeeze(1)"
      ]
    },
    {
      "cell_type": "code",
      "execution_count": null,
      "metadata": {
        "colab": {
          "background_save": true,
          "base_uri": "https://localhost:8080/"
        },
        "id": "Z5wM5_FgR5GG",
        "outputId": "af2789a9-a0b4-491c-aea7-36fd702af79a"
      },
      "outputs": [
        {
          "name": "stderr",
          "output_type": "stream",
          "text": [
            "Batch Accuracy: 0.79 , Total Accuracy: 0.62: 100%|██████████| 219/219 [03:02<00:00,  1.20it/s]\n"
          ]
        },
        {
          "name": "stdout",
          "output_type": "stream",
          "text": [
            "Epoch 1: Loss - (Train 142.37/Val 0.02), Accuracy - (Train 0.62/Val 0.70)\n"
          ]
        },
        {
          "name": "stderr",
          "output_type": "stream",
          "text": [
            "Batch Accuracy: 0.67 , Total Accuracy: 0.72: 100%|██████████| 219/219 [02:51<00:00,  1.28it/s]\n"
          ]
        },
        {
          "name": "stdout",
          "output_type": "stream",
          "text": [
            "Epoch 2: Loss - (Train 121.48/Val 0.02), Accuracy - (Train 0.72/Val 0.75)\n"
          ]
        },
        {
          "name": "stderr",
          "output_type": "stream",
          "text": [
            "Batch Accuracy: 0.83 , Total Accuracy: 0.78: 100%|██████████| 219/219 [02:50<00:00,  1.28it/s]\n"
          ]
        },
        {
          "name": "stdout",
          "output_type": "stream",
          "text": [
            "Epoch 3: Loss - (Train 103.80/Val 0.02), Accuracy - (Train 0.78/Val 0.77)\n"
          ]
        },
        {
          "name": "stderr",
          "output_type": "stream",
          "text": [
            "Batch Accuracy: 1.00 , Total Accuracy: 0.82: 100%|██████████| 219/219 [02:50<00:00,  1.29it/s]\n"
          ]
        },
        {
          "name": "stdout",
          "output_type": "stream",
          "text": [
            "Epoch 4: Loss - (Train 89.06/Val 0.01), Accuracy - (Train 0.82/Val 0.78)\n"
          ]
        },
        {
          "name": "stderr",
          "output_type": "stream",
          "text": [
            "Batch Accuracy: 0.96 , Total Accuracy: 0.86: 100%|██████████| 219/219 [02:48<00:00,  1.30it/s]\n"
          ]
        },
        {
          "name": "stdout",
          "output_type": "stream",
          "text": [
            "Epoch 5: Loss - (Train 73.51/Val 0.01), Accuracy - (Train 0.86/Val 0.80)\n"
          ]
        },
        {
          "name": "stderr",
          "output_type": "stream",
          "text": [
            "Batch Accuracy: 0.88 , Total Accuracy: 0.89: 100%|██████████| 219/219 [02:46<00:00,  1.32it/s]\n"
          ]
        },
        {
          "name": "stdout",
          "output_type": "stream",
          "text": [
            "Epoch 6: Loss - (Train 60.31/Val 0.01), Accuracy - (Train 0.89/Val 0.80)\n"
          ]
        },
        {
          "name": "stderr",
          "output_type": "stream",
          "text": [
            "Batch Accuracy: 0.88 , Total Accuracy: 0.91: 100%|██████████| 219/219 [02:47<00:00,  1.31it/s]\n"
          ]
        },
        {
          "name": "stdout",
          "output_type": "stream",
          "text": [
            "Epoch 7: Loss - (Train 50.25/Val 0.01), Accuracy - (Train 0.91/Val 0.81)\n"
          ]
        },
        {
          "name": "stderr",
          "output_type": "stream",
          "text": [
            "Batch Accuracy: 0.96 , Total Accuracy: 0.94: 100%|██████████| 219/219 [02:50<00:00,  1.28it/s]\n"
          ]
        },
        {
          "name": "stdout",
          "output_type": "stream",
          "text": [
            "Epoch 8: Loss - (Train 36.54/Val 0.02), Accuracy - (Train 0.94/Val 0.79)\n"
          ]
        },
        {
          "name": "stderr",
          "output_type": "stream",
          "text": [
            "Batch Accuracy: 0.83 , Total Accuracy: 0.95: 100%|██████████| 219/219 [02:48<00:00,  1.30it/s]\n"
          ]
        },
        {
          "name": "stdout",
          "output_type": "stream",
          "text": [
            "Epoch 9: Loss - (Train 30.43/Val 0.02), Accuracy - (Train 0.95/Val 0.79)\n"
          ]
        },
        {
          "name": "stderr",
          "output_type": "stream",
          "text": [
            "Batch Accuracy: 0.96 , Total Accuracy: 0.97: 100%|██████████| 219/219 [02:48<00:00,  1.30it/s]\n"
          ]
        },
        {
          "name": "stdout",
          "output_type": "stream",
          "text": [
            "Epoch 10: Loss - (Train 22.25/Val 0.01), Accuracy - (Train 0.97/Val 0.82)\n"
          ]
        },
        {
          "data": {
            "image/png": "[encoded data removed]",
            "text/plain": [
              "<Figure size 1500x500 with 2 Axes>"
            ]
          },
          "metadata": {},
          "output_type": "display_data"
        }
      ],
      "source": [
        "train_loader, val_loader = get_loaders(preprocessor = preprocess, data_directory = \"data/rvf10k\")\n",
        "\n",
        "model = Model()\n",
        "optimizer = torch.optim.Adam(model.parameters(), lr = 5e-5) # TODO: Change the optimizer to explore different options\n",
        "criterion = torch.nn.BCELoss() # TODO: Change the criterion to explore different options\n",
        "\n",
        "history = train_model(model, criterion, optimizer, train_loader, val_loader)\n",
        "plot_performance(history)\n",
        "\n",
        "# Load the model from the training run\n",
        "load_model(model, \"checkpoints\", 4) # change epoch from 0 to something else"
      ]
    },
    {
      "cell_type": "markdown",
      "metadata": {
        "id": "qwibsJyzhA7s"
      },
      "source": [
        "**KEY**: At the end of each work session, submit this workbook via slack! This will allow the project leads to train your model on the larger 140k dataset over the week!"
      ]
    }
  ],
  "metadata": {
    "accelerator": "GPU",
    "colab": {
      "gpuType": "T4",
      "provenance": []
    },
    "kernelspec": {
      "display_name": "Python 3",
      "name": "python3"
    },
    "language_info": {
      "name": "python",
      "version": "3.11.8"
    }
  },
  "nbformat": 4,
  "nbformat_minor": 0
}